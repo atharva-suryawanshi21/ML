{
  "cells": [
    {
      "cell_type": "markdown",
      "metadata": {
        "id": "yVEFxO4snBjo"
      },
      "source": [
        "# CIFAR-10 Dataset"
      ]
    },
    {
      "cell_type": "markdown",
      "metadata": {
        "id": "czF6dCsTnBjs"
      },
      "source": [
        "1. The CIFAR-10 dataset consists of 60000 32x32 colour images in 10 classes, with 6000 images per class.\n",
        "2. There are 50000 training images and 10000 test images.\n",
        "3. The dataset is divided into five training batches and one test batch, each with 10000 images. The test batch contains exactly 1000 randomly-selected images from each class. The training batches contain the remaining images in random order, but some training batches may contain more images from one class than another. Between them, the training batches contain exactly 5000 images from each class."
      ]
    },
    {
      "cell_type": "markdown",
      "metadata": {
        "id": "UeNUX8R8nBju"
      },
      "source": [
        "Classes include:-\n",
        "1. Airplane\n",
        "2. Automobile\n",
        "3. Bird\n",
        "4. Cat\n",
        "5. Deer\n",
        "6. Dog\n",
        "7. Frog\n",
        "8. Horse\n",
        "9. Ship\n",
        "10. Truck"
      ]
    },
    {
      "cell_type": "markdown",
      "metadata": {
        "id": "5658-qLxnBju"
      },
      "source": [
        "### Import relevant Librabries and Load the Data"
      ]
    },
    {
      "cell_type": "code",
      "execution_count": 1,
      "metadata": {
        "id": "GL5lk6jJnBjv"
      },
      "outputs": [],
      "source": [
        "import tensorflow as tf\n",
        "import matplotlib.pyplot as plt\n",
        "import numpy as np"
      ]
    },
    {
      "cell_type": "code",
      "execution_count": 2,
      "metadata": {
        "colab": {
          "base_uri": "https://localhost:8080/"
        },
        "id": "_3_zujSOnBjy",
        "outputId": "51878eff-339e-45bb-d6e7-b72832332c3a"
      },
      "outputs": [
        {
          "output_type": "stream",
          "name": "stdout",
          "text": [
            "Downloading data from https://www.cs.toronto.edu/~kriz/cifar-10-python.tar.gz\n",
            "170498071/170498071 [==============================] - 68s 0us/step\n"
          ]
        },
        {
          "output_type": "execute_result",
          "data": {
            "text/plain": [
              "((50000, 32, 32, 3), (50000, 1))"
            ]
          },
          "metadata": {},
          "execution_count": 2
        }
      ],
      "source": [
        "(train_inputs, train_targets) , (test_inputs, test_targets) = tf.keras.datasets.cifar10.load_data()\n",
        "train_inputs.shape , train_targets.shape"
      ]
    },
    {
      "cell_type": "markdown",
      "metadata": {
        "id": "vdNQ8knSnBj0"
      },
      "source": [
        "### Initials"
      ]
    },
    {
      "cell_type": "code",
      "execution_count": 3,
      "metadata": {
        "id": "2WmNFeh8nBj1"
      },
      "outputs": [],
      "source": [
        "# train_targets and test_targets is actually a 2 dimentional array([[6],[9],[9],[4],[1]]), so we flatten them into one dimention\n",
        "train_targets = train_targets.reshape(-1)\n",
        "# the '-1' indicates the size of the dimention so that the total no. of elements remains the same\n",
        "test_targets = test_targets.reshape(-1)"
      ]
    },
    {
      "cell_type": "code",
      "execution_count": 4,
      "metadata": {
        "colab": {
          "base_uri": "https://localhost:8080/",
          "height": 161
        },
        "id": "2egUcIiPnBj2",
        "outputId": "8ef1c86d-98a0-447b-83e3-e4eff143ed4c"
      },
      "outputs": [
        {
          "output_type": "display_data",
          "data": {
            "text/plain": [
              "<Figure size 100x100 with 1 Axes>"
            ],
            "image/png": "[encoded data removed]"
          },
          "metadata": {}
        }
      ],
      "source": [
        "classes = ['airplanes', 'automobiles', 'bird', 'cat', 'deer', 'dog', 'frog', 'horse', 'ship', 'truck']\n",
        "\n",
        "# We will define a function to display the image for any record\n",
        "def plot_sample(input, target, index):\n",
        "    plt.figure(figsize = (1,1)) # specifies width and heigth of the figure\n",
        "    plt.imshow(input[index])\n",
        "    plt.xlabel(classes[target[index]])\n",
        "plot_sample(train_inputs,train_targets,3)"
      ]
    },
    {
      "cell_type": "markdown",
      "metadata": {
        "id": "I8vOmQH2nBj3"
      },
      "source": [
        "### Normalize the data"
      ]
    },
    {
      "cell_type": "code",
      "execution_count": 5,
      "metadata": {
        "id": "JzMyc-9BnBj4"
      },
      "outputs": [],
      "source": [
        "train_inputs = train_inputs/255\n",
        "test_inputs = test_inputs/255"
      ]
    },
    {
      "cell_type": "markdown",
      "metadata": {
        "id": "sR3YVFKfnBj5"
      },
      "source": [
        "### We will first try using ANN, for comparison"
      ]
    },
    {
      "cell_type": "code",
      "execution_count": null,
      "metadata": {
        "id": "1mQrY1n_nBj5",
        "colab": {
          "base_uri": "https://localhost:8080/"
        },
        "outputId": "397f097e-5711-4106-cfd0-59bb76a11f2a"
      },
      "outputs": [
        {
          "output_type": "stream",
          "name": "stdout",
          "text": [
            "Epoch 1/5\n",
            "400/400 - 116s - loss: 2.0768 - accuracy: 0.3104 - val_loss: 1.7577 - val_accuracy: 0.3742 - 116s/epoch - 289ms/step\n",
            "Epoch 2/5\n",
            "400/400 - 121s - loss: 1.6958 - accuracy: 0.3952 - val_loss: 1.7279 - val_accuracy: 0.3806 - 121s/epoch - 304ms/step\n",
            "Epoch 3/5\n",
            "400/400 - 127s - loss: 1.6023 - accuracy: 0.4280 - val_loss: 1.5836 - val_accuracy: 0.4401 - 127s/epoch - 317ms/step\n",
            "Epoch 4/5\n",
            "400/400 - 120s - loss: 1.5355 - accuracy: 0.4508 - val_loss: 1.5820 - val_accuracy: 0.4319 - 120s/epoch - 301ms/step\n",
            "Epoch 5/5\n",
            "400/400 - 133s - loss: 1.4943 - accuracy: 0.4663 - val_loss: 1.5475 - val_accuracy: 0.4556 - 133s/epoch - 332ms/step\n"
          ]
        },
        {
          "output_type": "execute_result",
          "data": {
            "text/plain": [
              "<keras.src.callbacks.History at 0x7d28f49754e0>"
            ]
          },
          "metadata": {},
          "execution_count": 7
        }
      ],
      "source": [
        "ANN = tf.keras.Sequential([\n",
        "                                tf.keras.layers.Flatten( input_shape = (32,32,3)),\n",
        "                                tf.keras.layers.Dense(3000 , activation= 'relu'),\n",
        "                                tf.keras.layers.Dense(1000 , activation= 'relu'),\n",
        "                                tf.keras.layers.Dense(10 , activation='softmax')\n",
        "                            ])\n",
        "ANN.compile(optimizer = 'adam',\n",
        "            loss= 'sparse_categorical_crossentropy',\n",
        "            metrics = ['accuracy']\n",
        "            )\n",
        "\n",
        "ANN.fit(train_inputs,\n",
        "        train_targets,\n",
        "        batch_size=100,\n",
        "        validation_split= 0.2,\n",
        "        epochs =5,\n",
        "        verbose=2\n",
        "        )"
      ]
    },
    {
      "cell_type": "code",
      "execution_count": null,
      "metadata": {
        "id": "VkE4BOsynBj6",
        "colab": {
          "base_uri": "https://localhost:8080/"
        },
        "outputId": "03178a5f-49f3-48b0-f7c7-68c000a47933"
      },
      "outputs": [
        {
          "output_type": "stream",
          "name": "stdout",
          "text": [
            "313/313 [==============================] - 9s 28ms/step\n",
            "classification Report:\n",
            "               precision    recall  f1-score   support\n",
            "\n",
            "           0       0.48      0.62      0.54      1000\n",
            "           1       0.64      0.56      0.59      1000\n",
            "           2       0.31      0.42      0.35      1000\n",
            "           3       0.36      0.29      0.32      1000\n",
            "           4       0.43      0.23      0.30      1000\n",
            "           5       0.38      0.39      0.39      1000\n",
            "           6       0.49      0.53      0.51      1000\n",
            "           7       0.44      0.59      0.50      1000\n",
            "           8       0.68      0.45      0.54      1000\n",
            "           9       0.55      0.56      0.56      1000\n",
            "\n",
            "    accuracy                           0.46     10000\n",
            "   macro avg       0.48      0.46      0.46     10000\n",
            "weighted avg       0.48      0.46      0.46     10000\n",
            "\n"
          ]
        }
      ],
      "source": [
        "from sklearn.metrics import confusion_matrix, classification_report\n",
        "\n",
        "test_predict_ann = ANN.predict(test_inputs)\n",
        "predict_class_ann = [np.argmax(element) for element in test_predict_ann]\n",
        "\n",
        "print(\"classification Report:\\n\", classification_report(test_targets,predict_class_ann))\n"
      ]
    },
    {
      "cell_type": "markdown",
      "source": [
        "### ANN conclusion:\n",
        "1. the f1 score of all classes are too low.\n",
        "2. The accuracy is below 50% hence not useful.\n",
        "3. ANN cannot effectively predict data."
      ],
      "metadata": {
        "id": "42sZ3UD34rbv"
      }
    },
    {
      "cell_type": "markdown",
      "source": [
        "Note on above values:\n",
        "1. Precision: the accuracy of positive predictions made by a model\n",
        "- Precision = TP / (TP + FP), where TP is True Positives and FP is False Positives.\n",
        "2. Recall: the model's ability to correctly identify all positive instances.\n",
        "- Recall = TP / (TP + FN), where TP is True Positives and FN is False Negatives.\n",
        "3. F1-score: a harmonic mean of precision and recall\n",
        "- F1 Score = 2 * (Precision * Recall) / (Precision + Recall)\n",
        "4. Support: the number of instances in each class, which helps provide context for the other metrics. It's not a metric for model performance but is often displayed alongside precision, recall, and F1 score to give a sense of the class distribution.\n",
        "5. The ideal values for precision, recall and f1-score is 1."
      ],
      "metadata": {
        "id": "3r8s-0Zk3PdX"
      }
    },
    {
      "cell_type": "markdown",
      "source": [
        "# Convolutional Neural Network"
      ],
      "metadata": {
        "id": "9nloFJHx5zje"
      }
    },
    {
      "cell_type": "code",
      "source": [
        "CNN = tf.keras.Sequential([\n",
        "                            #CNN layers:\n",
        "                            tf.keras.layers.Conv2D(filters =32, kernel_size = (3,3), activation ='relu', input_shape=(32,32,3)),\n",
        "                            tf.keras.layers.MaxPooling2D((2,2)),\n",
        "                            # detect 32 different filters\n",
        "                            # filter size 3*3\n",
        "                            # average pooling can also be used\n",
        "                            # other activation function can be used, but relu is less expensive to calculate\n",
        "                            # we can have as many convolution layer as we need\n",
        "                            tf.keras.layers.Conv2D(filters =32, kernel_size = (3,3), activation ='relu'),\n",
        "                            tf.keras.layers.MaxPooling2D((2,2)),\n",
        "\n",
        "                            #Dense Layers:\n",
        "                            tf.keras.layers.Flatten(),  # the model will automatically figure out the shape\n",
        "                            tf.keras.layers.Dense(128,activation='relu'),\n",
        "                            tf.keras.layers.Dropout(0.3),\n",
        "                            tf.keras.layers.Dense(10,activation='softmax')\n",
        "                          ])\n"
      ],
      "metadata": {
        "id": "8YwC6tCFoCvv"
      },
      "execution_count": 14,
      "outputs": []
    },
    {
      "cell_type": "code",
      "source": [
        "CNN.compile(optimizer='adam',\n",
        "            loss='sparse_categorical_crossentropy',\n",
        "            metrics=['accuracy']\n",
        "            )\n",
        "CNN.fit(train_inputs, train_targets, epochs =10)"
      ],
      "metadata": {
        "id": "V5hjw-KVLQnR",
        "colab": {
          "base_uri": "https://localhost:8080/"
        },
        "outputId": "700ff5e9-f228-450d-866a-b0fcc94065f0"
      },
      "execution_count": 15,
      "outputs": [
        {
          "output_type": "stream",
          "name": "stdout",
          "text": [
            "Epoch 1/10\n",
            "1563/1563 [==============================] - 31s 19ms/step - loss: 1.5778 - accuracy: 0.4288\n",
            "Epoch 2/10\n",
            "1563/1563 [==============================] - 35s 23ms/step - loss: 1.2458 - accuracy: 0.5591\n",
            "Epoch 3/10\n",
            "1563/1563 [==============================] - 37s 24ms/step - loss: 1.1177 - accuracy: 0.6058\n",
            "Epoch 4/10\n",
            "1563/1563 [==============================] - 37s 24ms/step - loss: 1.0371 - accuracy: 0.6350\n",
            "Epoch 5/10\n",
            "1563/1563 [==============================] - 30s 19ms/step - loss: 0.9794 - accuracy: 0.6553\n",
            "Epoch 6/10\n",
            "1563/1563 [==============================] - 29s 18ms/step - loss: 0.9343 - accuracy: 0.6702\n",
            "Epoch 7/10\n",
            "1563/1563 [==============================] - 35s 22ms/step - loss: 0.8909 - accuracy: 0.6895\n",
            "Epoch 8/10\n",
            "1563/1563 [==============================] - 30s 19ms/step - loss: 0.8615 - accuracy: 0.6974\n",
            "Epoch 9/10\n",
            "1563/1563 [==============================] - 30s 19ms/step - loss: 0.8225 - accuracy: 0.7109\n",
            "Epoch 10/10\n",
            "1563/1563 [==============================] - 28s 18ms/step - loss: 0.7944 - accuracy: 0.7187\n"
          ]
        },
        {
          "output_type": "execute_result",
          "data": {
            "text/plain": [
              "<keras.src.callbacks.History at 0x7c709f1be050>"
            ]
          },
          "metadata": {},
          "execution_count": 15
        }
      ]
    },
    {
      "cell_type": "code",
      "source": [
        "CNN.evaluate(test_inputs, test_targets)"
      ],
      "metadata": {
        "colab": {
          "base_uri": "https://localhost:8080/"
        },
        "id": "HbeQ2PzPReO9",
        "outputId": "8829aca7-564f-48be-dfac-51544b82799d"
      },
      "execution_count": 16,
      "outputs": [
        {
          "output_type": "stream",
          "name": "stdout",
          "text": [
            "313/313 [==============================] - 2s 6ms/step - loss: 0.8940 - accuracy: 0.6980\n"
          ]
        },
        {
          "output_type": "execute_result",
          "data": {
            "text/plain": [
              "[0.894005537033081, 0.6980000138282776]"
            ]
          },
          "metadata": {},
          "execution_count": 16
        }
      ]
    },
    {
      "cell_type": "code",
      "source": [
        "plot_sample(test_inputs,test_targets,1)"
      ],
      "metadata": {
        "colab": {
          "base_uri": "https://localhost:8080/",
          "height": 161
        },
        "id": "rw4KauUKRAlg",
        "outputId": "87d8d6e6-6816-4afd-8721-d704bb222a59"
      },
      "execution_count": 17,
      "outputs": [
        {
          "output_type": "display_data",
          "data": {
            "text/plain": [
              "<Figure size 100x100 with 1 Axes>"
            ],
            "image/png": "[encoded data removed]"
          },
          "metadata": {}
        }
      ]
    },
    {
      "cell_type": "code",
      "source": [
        "# let's predict all test inputs\n",
        "test_predict_cnn = CNN.predict(test_inputs)\n",
        "# we use argmax to know the class with highest probability\n",
        "predict_class_cnn = [np.argmax(element) for element in test_predict_cnn]\n",
        "#np.argmax() returns the index containing the highest vlaue\n",
        "\n",
        "from sklearn.metrics import confusion_matrix, classification_report\n",
        "print(\"classification Report:\\n\", classification_report(test_targets,predict_class_cnn))\n"
      ],
      "metadata": {
        "colab": {
          "base_uri": "https://localhost:8080/"
        },
        "id": "ksbPgJfdQpOy",
        "outputId": "c777e4ae-f069-4e2d-e064-033a0157ced8"
      },
      "execution_count": 19,
      "outputs": [
        {
          "output_type": "stream",
          "name": "stdout",
          "text": [
            "313/313 [==============================] - 2s 7ms/step\n",
            "classification Report:\n",
            "               precision    recall  f1-score   support\n",
            "\n",
            "           0       0.76      0.72      0.74      1000\n",
            "           1       0.83      0.81      0.82      1000\n",
            "           2       0.62      0.56      0.59      1000\n",
            "           3       0.55      0.47      0.51      1000\n",
            "           4       0.67      0.61      0.64      1000\n",
            "           5       0.60      0.60      0.60      1000\n",
            "           6       0.65      0.85      0.74      1000\n",
            "           7       0.82      0.71      0.76      1000\n",
            "           8       0.78      0.81      0.80      1000\n",
            "           9       0.70      0.83      0.76      1000\n",
            "\n",
            "    accuracy                           0.70     10000\n",
            "   macro avg       0.70      0.70      0.69     10000\n",
            "weighted avg       0.70      0.70      0.69     10000\n",
            "\n"
          ]
        }
      ]
    },
    {
      "cell_type": "code",
      "source": [
        "index=7\n",
        "plot_sample(test_inputs, test_targets, index)\n",
        "# our model predicted\n",
        "classes[predict_class_cnn[index]]\n",
        "# wrong prediction"
      ],
      "metadata": {
        "colab": {
          "base_uri": "https://localhost:8080/",
          "height": 180
        },
        "id": "2fYTIfupW5tX",
        "outputId": "b4faaf79-93e6-4dc4-8a0c-19d7b6c3181f"
      },
      "execution_count": 30,
      "outputs": [
        {
          "output_type": "execute_result",
          "data": {
            "text/plain": [
              "'bird'"
            ],
            "application/vnd.google.colaboratory.intrinsic+json": {
              "type": "string"
            }
          },
          "metadata": {},
          "execution_count": 30
        },
        {
          "output_type": "display_data",
          "data": {
            "text/plain": [
              "<Figure size 100x100 with 1 Axes>"
            ],
            "image/png": "[encoded data removed]"
          },
          "metadata": {}
        }
      ]
    },
    {
      "cell_type": "markdown",
      "source": [
        "Conclusion:\n",
        "1. We got 70% accuracy, which is good. Because this is a difficult dataset, for some records even we wont be able to distinguish the images into classes. Check above example\n",
        "2. We got remarkable f1 scorefor each class, compared to ANN."
      ],
      "metadata": {
        "id": "X_IzQg_PWp0m"
      }
    }
  ],
  "metadata": {
    "kernelspec": {
      "display_name": "py3-TF2",
      "language": "python",
      "name": "python3"
    },
    "language_info": {
      "codemirror_mode": {
        "name": "ipython",
        "version": 3
      },
      "file_extension": ".py",
      "mimetype": "text/x-python",
      "name": "python",
      "nbconvert_exporter": "python",
      "pygments_lexer": "ipython3",
      "version": "3.10.12"
    },
    "orig_nbformat": 4,
    "colab": {
      "provenance": []
    }
  },
  "nbformat": 4,
  "nbformat_minor": 0
}