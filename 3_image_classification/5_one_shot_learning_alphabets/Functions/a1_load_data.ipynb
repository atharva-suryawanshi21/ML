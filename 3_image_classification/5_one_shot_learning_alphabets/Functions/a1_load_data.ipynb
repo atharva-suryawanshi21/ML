{
 "cells": [
  {
   "cell_type": "markdown",
   "metadata": {},
   "source": [
    "# Load Data"
   ]
  },
  {
   "cell_type": "markdown",
   "metadata": {},
   "source": [
    "### Approach"
   ]
  },
  {
   "cell_type": "markdown",
   "metadata": {},
   "source": [
    "##### Information"
   ]
  },
  {
   "cell_type": "markdown",
   "metadata": {},
   "source": [
    "1. We have 30 alphabets, with total of 964 characters.\n",
    "2. Each alphabet stored in seperate folder.\n",
    "3. Each letter in the alphabet has its own dedicated folder.\n",
    "4. There are 20 images for each letter."
   ]
  },
  {
   "cell_type": "markdown",
   "metadata": {},
   "source": [
    "##### Procedure"
   ]
  },
  {
   "cell_type": "markdown",
   "metadata": {},
   "source": [
    "1. loop through all alphabets\n",
    "2. in it loop through all letters\n",
    "3. in it loop through all images\n",
    "4. While iterating we store the following\n",
    "    - dictionary to map, alphabet name and dedicated range of labels(unique ID) for letters (min label ,max label)\n",
    "    - dictionary to map, these labels(ID) with respective (alphabet, letter) tuple.\n",
    "    - increment a counter for number of letter transversed\n",
    "    - store image data\n",
    "    - store its corresponding label"
   ]
  },
  {
   "cell_type": "markdown",
   "metadata": {},
   "source": [
    "### Import Relevant Libraries"
   ]
  },
  {
   "cell_type": "code",
   "execution_count": 1,
   "metadata": {},
   "outputs": [],
   "source": [
    "import numpy as np \n",
    "import os\n",
    "import cv2\n",
    "import pickle"
   ]
  },
  {
   "cell_type": "markdown",
   "metadata": {},
   "source": [
    "### Load data function"
   ]
  },
  {
   "cell_type": "code",
   "execution_count": 2,
   "metadata": {},
   "outputs": [],
   "source": [
    "def loading(path, n=0):\n",
    "    # containers:\n",
    "    image_data = []\n",
    "    label = []\n",
    "    alphabet_range = {}\n",
    "    labels_map_letters = {}\n",
    "    current_id = n\n",
    "\n",
    "    # for every alphabet:\n",
    "    for alphabet in os.listdir(path):  #os.listdir : returns a list of all entries in the directory\n",
    "        print(\"Loading the alphabet: \" + alphabet)\n",
    "        alphabet_range[alphabet] = [current_id, None] # we store starting label of alphabet\n",
    "        alphabet_path = os.path.join(path, alphabet) \n",
    "        # constructs full pathname by joining 'path'(directory path) with 'alphabet'(file name)\n",
    "\n",
    "        # for every letter:\n",
    "        for letter in os.listdir(alphabet_path):\n",
    "            labels_map_letters[current_id] = (alphabet, letter)\n",
    "            letter_path = os.path.join(alphabet_path,letter)\n",
    "            category_images=[] # store all letters temporarily\n",
    "\n",
    "            #  for every image:\n",
    "            for file_name in os.listdir(letter_path):\n",
    "                image_path = os.path.join(letter_path,file_name)\n",
    "                image = cv2.imread(image_path)\n",
    "                #image = cv2.cvtColor(image, cv2.COLOR_BGR2GRAY)\n",
    "                category_images.append(image)\n",
    "                label.append(current_id)\n",
    "                # we stored ranges of label to be in one category like label 0 to 19 under alphabet 1\n",
    "\n",
    "            # error handling in case where stacking of images gives error \n",
    "            # (like when images are of different dimentions so unable to stack)\n",
    "            try: \n",
    "                image_data.append(np.stack(category_images))\n",
    "            except ValueError as e:\n",
    "                print(e)\n",
    "                print(\"error - category_images: \", category_images)\n",
    "\n",
    "            alphabet_range[alphabet][1] = current_id # finally we store the ending range of this alphabet\n",
    "            current_id +=1 \n",
    "\n",
    "    label = np.vstack(label)\n",
    "    image_data = np.stack(image_data)\n",
    "\n",
    "    return image_data, label, alphabet_range"
   ]
  },
  {
   "cell_type": "markdown",
   "metadata": {},
   "source": [
    "#### Training Data"
   ]
  },
  {
   "cell_type": "code",
   "execution_count": 3,
   "metadata": {},
   "outputs": [
    {
     "name": "stdout",
     "output_type": "stream",
     "text": [
      "Loading the alphabet: Alphabet_of_the_Magi\n",
      "Loading the alphabet: Anglo-Saxon_Futhorc\n",
      "Loading the alphabet: Arcadian\n",
      "Loading the alphabet: Armenian\n",
      "Loading the alphabet: Asomtavruli_(Georgian)\n",
      "Loading the alphabet: Balinese\n",
      "Loading the alphabet: Bengali\n",
      "Loading the alphabet: Blackfoot_(Canadian_Aboriginal_Syllabics)\n",
      "Loading the alphabet: Braille\n",
      "Loading the alphabet: Burmese_(Myanmar)\n",
      "Loading the alphabet: Cyrillic\n",
      "Loading the alphabet: Early_Aramaic\n",
      "Loading the alphabet: Futurama\n",
      "Loading the alphabet: Grantha\n",
      "Loading the alphabet: Greek\n",
      "Loading the alphabet: Gujarati\n",
      "Loading the alphabet: Hebrew\n",
      "Loading the alphabet: Inuktitut_(Canadian_Aboriginal_Syllabics)\n",
      "Loading the alphabet: Japanese_(hiragana)\n",
      "Loading the alphabet: Japanese_(katakana)\n",
      "Loading the alphabet: Korean\n",
      "Loading the alphabet: Latin\n",
      "Loading the alphabet: Malay_(Jawi_-_Arabic)\n",
      "Loading the alphabet: Mkhedruli_(Georgian)\n",
      "Loading the alphabet: N_Ko\n",
      "Loading the alphabet: Ojibwe_(Canadian_Aboriginal_Syllabics)\n",
      "Loading the alphabet: Sanskrit\n",
      "Loading the alphabet: Syriac_(Estrangelo)\n",
      "Loading the alphabet: Tagalog\n",
      "Loading the alphabet: Tifinagh\n"
     ]
    }
   ],
   "source": [
    "train_path = '../Data/images_background'\n",
    "save_path = '../Data/'\n",
    "train_data, train_label, train_range = loading(train_path)\n",
    "\n",
    "# with - ensures the file is properly closed after the block of code executes\n",
    "with open(os.path.join(save_path,\"train_data.pickle\"), 'wb') as f: #'wb' - file will be opened in writing mode\n",
    "    pickle.dump( (train_data, train_range), f) # f is opened pickle file\n",
    "\n",
    "# we stored image data, corresponding labels and alphabet range dictionary"
   ]
  },
  {
   "cell_type": "code",
   "execution_count": 4,
   "metadata": {},
   "outputs": [
    {
     "data": {
      "text/plain": [
       "((964, 20, 105, 105, 3), (19280, 1))"
      ]
     },
     "execution_count": 4,
     "metadata": {},
     "output_type": "execute_result"
    }
   ],
   "source": [
    "train_data.shape, train_label.shape"
   ]
  },
  {
   "cell_type": "markdown",
   "metadata": {},
   "source": [
    "#### Validation Data"
   ]
  },
  {
   "cell_type": "code",
   "execution_count": 5,
   "metadata": {},
   "outputs": [
    {
     "name": "stdout",
     "output_type": "stream",
     "text": [
      "Loading the alphabet: Angelic\n",
      "Loading the alphabet: Atemayar_Qelisayer\n",
      "Loading the alphabet: Atlantean\n",
      "Loading the alphabet: Aurek-Besh\n",
      "Loading the alphabet: Avesta\n",
      "Loading the alphabet: Ge_ez\n",
      "Loading the alphabet: Glagolitic\n",
      "Loading the alphabet: Gurmukhi\n",
      "Loading the alphabet: Kannada\n",
      "Loading the alphabet: Keble\n",
      "Loading the alphabet: Malayalam\n",
      "Loading the alphabet: Manipuri\n",
      "Loading the alphabet: Mongolian\n",
      "Loading the alphabet: Old_Church_Slavonic_(Cyrillic)\n",
      "Loading the alphabet: Oriya\n",
      "Loading the alphabet: Sylheti\n",
      "Loading the alphabet: Syriac_(Serto)\n",
      "Loading the alphabet: Tengwar\n",
      "Loading the alphabet: Tibetan\n",
      "Loading the alphabet: ULOG\n"
     ]
    }
   ],
   "source": [
    "val_path = '../Data/images_evaluation'\n",
    "val_data, val_label, val_range = loading(val_path)\n",
    "\n",
    "\n",
    "# with - ensures the file is properly closed after the block of code executes\n",
    "with open(os.path.join(save_path,\"val_data.pickle\"), 'wb') as f: #'wb' - file will be opened in writing mode\n",
    "    pickle.dump( (val_data, val_range), f) # f is opened pickle file\n",
    "\n",
    "# we stored image data, corresponding labels and alphabet range dictionary"
   ]
  },
  {
   "cell_type": "markdown",
   "metadata": {},
   "source": []
  },
  {
   "cell_type": "code",
   "execution_count": null,
   "metadata": {},
   "outputs": [],
   "source": [
    "\n",
    "\n"
   ]
  },
  {
   "cell_type": "code",
   "execution_count": null,
   "metadata": {},
   "outputs": [],
   "source": []
  }
 ],
 "metadata": {
  "kernelspec": {
   "display_name": "Python 3",
   "language": "python",
   "name": "python3"
  },
  "language_info": {
   "codemirror_mode": {
    "name": "ipython",
    "version": 3
   },
   "file_extension": ".py",
   "mimetype": "text/x-python",
   "name": "python",
   "nbconvert_exporter": "python",
   "pygments_lexer": "ipython3",
   "version": "3.11.3"
  }
 },
 "nbformat": 4,
 "nbformat_minor": 2
}
