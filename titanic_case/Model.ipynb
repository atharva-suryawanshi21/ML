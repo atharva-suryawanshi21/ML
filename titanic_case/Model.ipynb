{
 "cells": [
  {
   "cell_type": "markdown",
   "metadata": {},
   "source": [
    "### Assembling the model"
   ]
  },
  {
   "cell_type": "code",
   "execution_count": 47,
   "metadata": {},
   "outputs": [],
   "source": [
    "import numpy as np \n",
    "import tensorflow as tf\n",
    "import pandas as pd\n",
    "\n",
    "npz = np.load('titanic_train_data.npz', allow_pickle=True)\n",
    "train_inputs, train_targets = npz['inputs'], npz['targets']\n",
    "\n",
    "npz = np.load('titanic_validation_data.npz', allow_pickle=True)\n",
    "validation_inputs, validation_targets = npz['inputs'], npz['targets']\n",
    "\n",
    "npz = np.load('titanic_test_data.npz', allow_pickle= True)\n",
    "test_data = npz['inputs']\n",
    "npz = np.load('titanic_test_PassengerId.npz', allow_pickle= True)\n",
    "test_PassengerId = npz['inputs']"
   ]
  },
  {
   "cell_type": "markdown",
   "metadata": {},
   "source": [
    "### Model\n",
    "Outline, Optimizers, Loss, Early Stopping and Training"
   ]
  },
  {
   "cell_type": "code",
   "execution_count": 48,
   "metadata": {},
   "outputs": [
    {
     "name": "stdout",
     "output_type": "stream",
     "text": [
      "Epoch 1/100\n",
      "7/7 - 1s - loss: 0.5861 - accuracy: 0.7480 - val_loss: 0.5092 - val_accuracy: 0.7826 - 821ms/epoch - 117ms/step\n",
      "Epoch 2/100\n",
      "7/7 - 0s - loss: 0.4758 - accuracy: 0.7967 - val_loss: 0.5076 - val_accuracy: 0.7826 - 52ms/epoch - 7ms/step\n",
      "Epoch 3/100\n",
      "7/7 - 0s - loss: 0.4632 - accuracy: 0.8065 - val_loss: 0.5169 - val_accuracy: 0.7826 - 48ms/epoch - 7ms/step\n",
      "Epoch 4/100\n",
      "7/7 - 0s - loss: 0.4542 - accuracy: 0.8081 - val_loss: 0.5107 - val_accuracy: 0.7971 - 55ms/epoch - 8ms/step\n"
     ]
    },
    {
     "data": {
      "text/plain": [
       "<keras.callbacks.History at 0x1e8d26e40d0>"
      ]
     },
     "execution_count": 48,
     "metadata": {},
     "output_type": "execute_result"
    }
   ],
   "source": [
    "input_size = train_inputs.shape[1]\n",
    "hidden_layer_size = 100\n",
    "output_size = 1\n",
    "\n",
    "model = tf.keras.Sequential([\n",
    "                                tf.keras.layers.Dense(hidden_layer_size,activation='tanh'),\n",
    "                                tf.keras.layers.Dense(hidden_layer_size,activation='tanh'),\n",
    "                                tf.keras.layers.Dense(hidden_layer_size,activation='tanh'),\n",
    "                                tf.keras.layers.Dense(output_size,activation='sigmoid'),\n",
    "                            ])\n",
    "\n",
    "model.compile(optimizer='adam',loss='binary_crossentropy', metrics = ['accuracy'])\n",
    "\n",
    "batch_size = 100\n",
    "max_epochs = 100\n",
    "\n",
    "early_stopping = tf.keras.callbacks.EarlyStopping(patience= 2)\n",
    "\n",
    "model.fit(\n",
    "            train_inputs,\n",
    "            train_targets,\n",
    "            batch_size= batch_size,\n",
    "            epochs = max_epochs,\n",
    "            callbacks= [early_stopping],\n",
    "            validation_data= (validation_inputs,validation_targets),\n",
    "            verbose = 2\n",
    "         )"
   ]
  },
  {
   "cell_type": "markdown",
   "metadata": {},
   "source": [
    "We get 79.7% accuracy, which is good. There's so much uncertainty, due to that \"noise\", but also due to other factors that are not given in the table, like people's health conditions, personality traits, personal relations and so on, that it's completely impossible to predict survival from the given data alone."
   ]
  },
  {
   "cell_type": "code",
   "execution_count": 50,
   "metadata": {},
   "outputs": [
    {
     "name": "stdout",
     "output_type": "stream",
     "text": [
      "14/14 [==============================] - 0s 601us/step\n"
     ]
    },
    {
     "data": {
      "text/html": [
       "<div>\n",
       "<style scoped>\n",
       "    .dataframe tbody tr th:only-of-type {\n",
       "        vertical-align: middle;\n",
       "    }\n",
       "\n",
       "    .dataframe tbody tr th {\n",
       "        vertical-align: top;\n",
       "    }\n",
       "\n",
       "    .dataframe thead th {\n",
       "        text-align: right;\n",
       "    }\n",
       "</style>\n",
       "<table border=\"1\" class=\"dataframe\">\n",
       "  <thead>\n",
       "    <tr style=\"text-align: right;\">\n",
       "      <th></th>\n",
       "      <th>0</th>\n",
       "    </tr>\n",
       "  </thead>\n",
       "  <tbody>\n",
       "    <tr>\n",
       "      <th>0</th>\n",
       "      <td>PassengerId</td>\n",
       "    </tr>\n",
       "  </tbody>\n",
       "</table>\n",
       "</div>"
      ],
      "text/plain": [
       "             0\n",
       "0  PassengerId"
      ]
     },
     "execution_count": 50,
     "metadata": {},
     "output_type": "execute_result"
    }
   ],
   "source": [
    "survived = model.predict(test_data)\n",
    "survived_binary = (survived >= 0.5).astype(int)\n",
    "\n",
    "Answer['']= "
   ]
  },
  {
   "cell_type": "code",
   "execution_count": null,
   "metadata": {},
   "outputs": [],
   "source": []
  }
 ],
 "metadata": {
  "kernelspec": {
   "display_name": "py3-TF2",
   "language": "python",
   "name": "python3"
  },
  "language_info": {
   "codemirror_mode": {
    "name": "ipython",
    "version": 3
   },
   "file_extension": ".py",
   "mimetype": "text/x-python",
   "name": "python",
   "nbconvert_exporter": "python",
   "pygments_lexer": "ipython3",
   "version": "3.10.12"
  },
  "orig_nbformat": 4
 },
 "nbformat": 4,
 "nbformat_minor": 2
}
