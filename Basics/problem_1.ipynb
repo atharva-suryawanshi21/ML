{
 "cells": [
  {
   "cell_type": "markdown",
   "metadata": {},
   "source": [
    "## Feature Selection\n",
    "- Select any data set with high dimensions (such as Bostan dataset, breast cancer dataset) \n",
    "from any repository of data such as SK-Learn, UCI library, Kaggle dataset library etc. \n",
    "- Write a program to perform the following operations on the selected dataset and display \n",
    "the result.\n",
    "1. Reduce dimensions using SelectKBest method\n",
    "2. Reduce dimensions using SelectPercentile method\n",
    "3. Reduce dimensions using PCA techniques"
   ]
  },
  {
   "cell_type": "code",
   "execution_count": 4,
   "metadata": {},
   "outputs": [],
   "source": [
    "import pandas as pd\n",
    "from sklearn.feature_selection import SelectKBest, SelectPercentile, chi2\n",
    "import numpy as np"
   ]
  },
  {
   "cell_type": "markdown",
   "metadata": {},
   "source": [
    "### i. Reduce dimensions using SelectKBest method\n",
    "1. k_best = SelectKBest(score_func=chi2, k=10)\n",
    "2. X_k_best = k_best.fit_transform(X_scaled, y)\n",
    "3. selected_features_k_best = np.array(data.feature_names)[k_best.get_support()]\n"
   ]
  },
  {
   "cell_type": "code",
   "execution_count": 5,
   "metadata": {},
   "outputs": [
    {
     "name": "stdout",
     "output_type": "stream",
     "text": [
      "Column Names:\n",
      "mean radius\n",
      "mean texture\n",
      "mean perimeter\n",
      "mean area\n",
      "mean smoothness\n",
      "mean compactness\n",
      "mean concavity\n",
      "mean concave points\n",
      "mean symmetry\n",
      "mean fractal dimension\n",
      "radius error\n",
      "texture error\n",
      "perimeter error\n",
      "area error\n",
      "smoothness error\n",
      "compactness error\n",
      "concavity error\n",
      "concave points error\n",
      "symmetry error\n",
      "fractal dimension error\n",
      "worst radius\n",
      "worst texture\n",
      "worst perimeter\n",
      "worst area\n",
      "worst smoothness\n",
      "worst compactness\n",
      "worst concavity\n",
      "worst concave points\n",
      "worst symmetry\n",
      "worst fractal dimension\n",
      "\n",
      "Accuracy without dimensionality reduction: 0.956140350877193\n",
      "\n",
      "Accuracy with dimensionality reduction: 0.9912280701754386\n",
      "\n",
      "Selected Features: ['mean radius' 'mean perimeter' 'mean area' 'mean concavity'\n",
      " 'mean concave points' 'worst radius' 'worst perimeter' 'worst area'\n",
      " 'worst concavity' 'worst concave points']\n"
     ]
    }
   ],
   "source": [
    "import numpy as np\n",
    "import pandas as pd\n",
    "from sklearn.datasets import load_breast_cancer\n",
    "from sklearn.model_selection import train_test_split\n",
    "from sklearn.feature_selection import SelectKBest, f_classif\n",
    "from sklearn.linear_model import LogisticRegression\n",
    "from sklearn.metrics import accuracy_score\n",
    "\n",
    "# Load breast cancer dataset\n",
    "data = load_breast_cancer()\n",
    "X = data.data\n",
    "y = data.target\n",
    "\n",
    "# Get column names\n",
    "column_names = data.feature_names\n",
    "\n",
    "print(\"Column Names:\")\n",
    "for col in column_names:\n",
    "    print(col)\n",
    "\n",
    "# Split data into train and test sets\n",
    "X_train, X_test, y_train, y_test = train_test_split(X, y, test_size=0.2, random_state=42)\n",
    "\n",
    "# Initialize Logistic Regression classifier\n",
    "clf = LogisticRegression(max_iter=10000, random_state=42)\n",
    "\n",
    "# Train and evaluate the model without dimensionality reduction\n",
    "clf.fit(X_train, y_train)\n",
    "y_pred = clf.predict(X_test)\n",
    "accuracy_no_reduction = accuracy_score(y_test, y_pred)\n",
    "print(\"\\nAccuracy without dimensionality reduction:\", accuracy_no_reduction)\n",
    "\n",
    "# Perform dimensionality reduction using SelectKBest\n",
    "k = 10  # Number of features to select\n",
    "selector = SelectKBest(score_func=f_classif, k=k)\n",
    "X_train_reduced = selector.fit_transform(X_train, y_train)\n",
    "X_test_reduced = selector.transform(X_test)\n",
    "\n",
    "# Train and evaluate the model with dimensionality reduction\n",
    "clf.fit(X_train_reduced, y_train)\n",
    "y_pred_reduced = clf.predict(X_test_reduced)\n",
    "accuracy_with_reduction = accuracy_score(y_test, y_pred_reduced)\n",
    "print(\"\\nAccuracy with dimensionality reduction:\", accuracy_with_reduction)\n",
    "\n",
    "# Display selected features\n",
    "selected_features = np.array(data.feature_names)[selector.get_support()]\n",
    "print(\"\\nSelected Features:\", selected_features)\n"
   ]
  },
  {
   "cell_type": "code",
   "execution_count": null,
   "metadata": {},
   "outputs": [],
   "source": []
  },
  {
   "cell_type": "code",
   "execution_count": null,
   "metadata": {},
   "outputs": [],
   "source": []
  }
 ],
 "metadata": {
  "kernelspec": {
   "display_name": "Python 3",
   "language": "python",
   "name": "python3"
  },
  "language_info": {
   "codemirror_mode": {
    "name": "ipython",
    "version": 3
   },
   "file_extension": ".py",
   "mimetype": "text/x-python",
   "name": "python",
   "nbconvert_exporter": "python",
   "pygments_lexer": "ipython3",
   "version": "3.11.3"
  }
 },
 "nbformat": 4,
 "nbformat_minor": 2
}
