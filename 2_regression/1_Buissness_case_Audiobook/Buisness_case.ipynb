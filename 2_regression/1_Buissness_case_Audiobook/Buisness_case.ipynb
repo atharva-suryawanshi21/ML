{
 "cells": [
  {
   "cell_type": "markdown",
   "id": "983f5b00",
   "metadata": {},
   "source": [
    "# Assembling the Model"
   ]
  },
  {
   "cell_type": "markdown",
   "id": "24c12809",
   "metadata": {},
   "source": [
    "### Task\n",
    "To create a machine learning algorithm, which is able to predict if a customer will buy again. This classification has two classes, won't buy and will buy, represented by 0 and 1 respectively."
   ]
  },
  {
   "cell_type": "markdown",
   "id": "125a7a6b",
   "metadata": {},
   "source": [
    "### Import the relevant libraries"
   ]
  },
  {
   "cell_type": "code",
   "execution_count": 1,
   "id": "7bc0fd62",
   "metadata": {},
   "outputs": [],
   "source": [
    "import numpy as np\n",
    "import tensorflow as tf"
   ]
  },
  {
   "cell_type": "markdown",
   "id": "43f89620",
   "metadata": {},
   "source": [
    "### Data"
   ]
  },
  {
   "cell_type": "code",
   "execution_count": 2,
   "id": "1025aa30",
   "metadata": {},
   "outputs": [],
   "source": [
    "npz = np.load('Audiobook_train_data.npz')\n",
    "\n",
    "train_inputs = npz['inputs'].astype(float)\n",
    "train_targets = npz['targets'].astype(float)\n",
    "# astype() creates a copy of the array, cast to a specific type\n",
    "# to ensure our model learns correctly we accept all inputs to be float\n",
    "# even though our targets are 0 and 1, we are not completely certain that they will extracted as integers, floats or booleans, so we cast targets too\n",
    "\n",
    "npz = np.load('Audiobook_validation_data.npz')\n",
    "\n",
    "validation_inputs = npz['inputs'].astype(float)\n",
    "validation_targets = npz['targets'].astype(float)\n",
    "\n",
    "npz = np.load('Audiobook_test_data.npz')\n",
    "\n",
    "test_inputs , test_targets = npz['inputs'].astype(float) , npz['targets'].astype(float)"
   ]
  },
  {
   "cell_type": "markdown",
   "id": "0dba4f86",
   "metadata": {},
   "source": [
    "### Model"
   ]
  },
  {
   "cell_type": "markdown",
   "id": "23f6c603",
   "metadata": {},
   "source": [
    "Outline, Optimizers, Loss, Early Stopping and Training"
   ]
  },
  {
   "cell_type": "code",
   "execution_count": 3,
   "id": "d969694c",
   "metadata": {},
   "outputs": [
    {
     "name": "stdout",
     "output_type": "stream",
     "text": [
      "Epoch 1/100\n",
      "36/36 - 1s - loss: 0.6476 - accuracy: 0.6038 - val_loss: 0.5351 - val_accuracy: 0.7405 - 1s/epoch - 31ms/step\n",
      "Epoch 2/100\n",
      "36/36 - 0s - loss: 0.5263 - accuracy: 0.7346 - val_loss: 0.4575 - val_accuracy: 0.7606 - 116ms/epoch - 3ms/step\n",
      "Epoch 3/100\n",
      "36/36 - 0s - loss: 0.4717 - accuracy: 0.7558 - val_loss: 0.4270 - val_accuracy: 0.7673 - 109ms/epoch - 3ms/step\n",
      "Epoch 4/100\n",
      "36/36 - 0s - loss: 0.4584 - accuracy: 0.7538 - val_loss: 0.4100 - val_accuracy: 0.7740 - 125ms/epoch - 3ms/step\n",
      "Epoch 5/100\n",
      "36/36 - 0s - loss: 0.4393 - accuracy: 0.7614 - val_loss: 0.4007 - val_accuracy: 0.7875 - 119ms/epoch - 3ms/step\n",
      "Epoch 6/100\n",
      "36/36 - 0s - loss: 0.4306 - accuracy: 0.7717 - val_loss: 0.3932 - val_accuracy: 0.7875 - 113ms/epoch - 3ms/step\n",
      "Epoch 7/100\n",
      "36/36 - 0s - loss: 0.4248 - accuracy: 0.7723 - val_loss: 0.3891 - val_accuracy: 0.7875 - 112ms/epoch - 3ms/step\n",
      "Epoch 8/100\n",
      "36/36 - 0s - loss: 0.4155 - accuracy: 0.7804 - val_loss: 0.3856 - val_accuracy: 0.7875 - 118ms/epoch - 3ms/step\n",
      "Epoch 9/100\n",
      "36/36 - 0s - loss: 0.4122 - accuracy: 0.7770 - val_loss: 0.3821 - val_accuracy: 0.7875 - 167ms/epoch - 5ms/step\n",
      "Epoch 10/100\n",
      "36/36 - 0s - loss: 0.4078 - accuracy: 0.7902 - val_loss: 0.3772 - val_accuracy: 0.7964 - 109ms/epoch - 3ms/step\n",
      "Epoch 11/100\n",
      "36/36 - 0s - loss: 0.4047 - accuracy: 0.7857 - val_loss: 0.3741 - val_accuracy: 0.8031 - 113ms/epoch - 3ms/step\n",
      "Epoch 12/100\n",
      "36/36 - 0s - loss: 0.3945 - accuracy: 0.7960 - val_loss: 0.3716 - val_accuracy: 0.8009 - 150ms/epoch - 4ms/step\n",
      "Epoch 13/100\n",
      "36/36 - 0s - loss: 0.3959 - accuracy: 0.7930 - val_loss: 0.3729 - val_accuracy: 0.7942 - 120ms/epoch - 3ms/step\n"
     ]
    },
    {
     "data": {
      "text/plain": [
       "<keras.callbacks.History at 0x24cc40da770>"
      ]
     },
     "execution_count": 3,
     "metadata": {},
     "output_type": "execute_result"
    }
   ],
   "source": [
    "input_size = 10\n",
    "hidden_layer_size = 50\n",
    "output_size = 2\n",
    "\n",
    "model = tf.keras.Sequential([\n",
    "                                tf.keras.layers.Dense(hidden_layer_size, activation = 'relu'),\n",
    "                                tf.keras.layers.Dropout(0.2),\n",
    "                                tf.keras.layers.Dense(hidden_layer_size, activation = 'relu'),\n",
    "                                tf.keras.layers.Dropout(0.2),\n",
    "                                tf.keras.layers.Dense(output_size, activation = 'softmax')\n",
    "                            ])\n",
    "model.compile(optimizer = 'adam', loss = 'sparse_categorical_crossentropy', metrics = ['accuracy'])\n",
    "\n",
    "batch_size = 100\n",
    "max_epochs = 100\n",
    "\n",
    "# we can feed  2 tuple object or two simple seperated  arrays when feeding training data\n",
    "# when dealing with arrays, indicating batch size will automatically batch the data during the training process\n",
    "'''\n",
    "# case 1: no early stopping\n",
    "model.fit(train_inputs, \n",
    "          train_targets,\n",
    "          batch_size= batch_size,\n",
    "          epochs = max_epochs,\n",
    "          validation_data = (validation_inputs, validation_targets),\n",
    "          verbose = 2,\n",
    "         )\n",
    "'''\n",
    "# case 2: with early stopping\n",
    "early_stopping = tf.keras.callbacks.EarlyStopping(patience=1)\n",
    "# by defualt it stops the first time the validation loss starts increasing.\n",
    "model.fit(train_inputs, \n",
    "          train_targets,\n",
    "          batch_size= batch_size,\n",
    "          epochs = max_epochs,\n",
    "          callbacks = [early_stopping],  # list of callbacks []\n",
    "          validation_data = (validation_inputs, validation_targets),\n",
    "          verbose = 2,\n",
    "         )"
   ]
  },
  {
   "cell_type": "markdown",
   "id": "974a9a77",
   "metadata": {},
   "source": [
    "1. In case no early stopping : When we train our model for so long, there is a chance that we are overfitting the model. As the loss was decreasing consistently, our validation loss was sometimes increasing and sometimes decreasing -> we have over fitted our model\n",
    "2. In case of early stopping: fit() contains an argument called callbacks. These are functions called at certain steps during model training. We will focus on EarlyStopping. Here each time the validation loss is calculated, it is compared to the validation loss one epoch ago, if it starts increasing , our model is overfitting.\n",
    "3. When the validation loss increase is significantly low, we may slide 1 or 2 validation increases. Hence we adjust EarlyStopping for this Tolerance."
   ]
  },
  {
   "cell_type": "markdown",
   "id": "18e70c7f",
   "metadata": {},
   "source": [
    "### Test the data"
   ]
  },
  {
   "cell_type": "code",
   "execution_count": 4,
   "id": "819a5f5a",
   "metadata": {},
   "outputs": [
    {
     "name": "stdout",
     "output_type": "stream",
     "text": [
      "14/14 [==============================] - 0s 2ms/step - loss: 0.3510 - accuracy: 0.8013\n"
     ]
    },
    {
     "data": {
      "text/plain": [
       "[0.35102730989456177, 0.8013392686843872]"
      ]
     },
     "execution_count": 4,
     "metadata": {},
     "output_type": "execute_result"
    }
   ],
   "source": [
    "model.evaluate(test_inputs,test_targets)"
   ]
  }
 ],
 "metadata": {
  "kernelspec": {
   "display_name": "Python 3 (ipykernel)",
   "language": "python",
   "name": "python3"
  },
  "language_info": {
   "codemirror_mode": {
    "name": "ipython",
    "version": 3
   },
   "file_extension": ".py",
   "mimetype": "text/x-python",
   "name": "python",
   "nbconvert_exporter": "python",
   "pygments_lexer": "ipython3",
   "version": "3.10.13"
  }
 },
 "nbformat": 4,
 "nbformat_minor": 5
}
