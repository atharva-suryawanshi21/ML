{
 "cells": [
  {
   "cell_type": "code",
   "execution_count": 2,
   "metadata": {},
   "outputs": [],
   "source": [
    "import tensorflow as tf\n",
    "import numpy as np\n"
   ]
  },
  {
   "cell_type": "code",
   "execution_count": 5,
   "metadata": {},
   "outputs": [],
   "source": [
    "npz = np.load('housing_training_data.npz', allow_pickle=True)\n",
    "train_inputs,train_targets = npz['inputs'].astype(float), npz['targets'].astype(float)\n",
    "\n",
    "npz = np.load('housing_test_data.npz', allow_pickle=True)\n",
    "test_inputs, test_targets = npz['inputs'].astype(float), npz['targets'].astype(float)"
   ]
  },
  {
   "cell_type": "code",
   "execution_count": 6,
   "metadata": {},
   "outputs": [
    {
     "data": {
      "text/plain": [
       "array([[ 0.27985052, -0.10917089, -1.4003969 , ...,  0.        ,\n",
       "         0.        ,  0.        ],\n",
       "       [ 1.30304516, -1.36836005, -0.84446619, ...,  0.        ,\n",
       "         0.        ,  0.        ],\n",
       "       [ 0.62424286, -1.06877601, -0.12969812, ...,  1.        ,\n",
       "         0.        ,  0.        ],\n",
       "       ...,\n",
       "       [ 0.57433093, -0.75982997,  1.06158199, ...,  0.        ,\n",
       "         0.        ,  0.        ],\n",
       "       [-1.23248108,  0.90660624, -1.32097823, ...,  0.        ,\n",
       "         1.        ,  0.        ],\n",
       "       [-1.42713762,  0.98150225,  1.85576873, ...,  0.        ,\n",
       "         1.        ,  0.        ]])"
      ]
     },
     "execution_count": 6,
     "metadata": {},
     "output_type": "execute_result"
    }
   ],
   "source": []
  },
  {
   "cell_type": "code",
   "execution_count": null,
   "metadata": {},
   "outputs": [],
   "source": []
  }
 ],
 "metadata": {
  "kernelspec": {
   "display_name": "py3-TF2",
   "language": "python",
   "name": "python3"
  },
  "language_info": {
   "codemirror_mode": {
    "name": "ipython",
    "version": 3
   },
   "file_extension": ".py",
   "mimetype": "text/x-python",
   "name": "python",
   "nbconvert_exporter": "python",
   "pygments_lexer": "ipython3",
   "version": "3.10.13"
  }
 },
 "nbformat": 4,
 "nbformat_minor": 2
}
