{
 "cells": [
  {
   "cell_type": "code",
   "execution_count": 1,
   "metadata": {},
   "outputs": [],
   "source": [
    "import cv2"
   ]
  },
  {
   "cell_type": "markdown",
   "metadata": {},
   "source": [
    "### Contents:\n",
    "1. Read video from camera\n",
    "2. Read video from files\n",
    "3. Write the video (save)"
   ]
  },
  {
   "cell_type": "markdown",
   "metadata": {},
   "source": [
    "#### Read video from camera"
   ]
  },
  {
   "cell_type": "markdown",
   "metadata": {},
   "source": [
    "Explaination\n",
    "1. cap = cv2.VideoCapture(0)\n",
    "    - '0' specifies the index of the camera device you want to capture video from\n",
    "    - can be -1,1,2,etc (in case of multiple cameras)\n",
    "2. While loop to capture frames continuously\n",
    "3. ret, frame = cap.read()\n",
    "    - read() reads the next frame from video source\n",
    "    - if the frame is successfully read, 'ret' is set to True\n",
    "    - 'frame' contains actual video frame as an image(numpy array)\n",
    "4. cv2.waitKey(1) & 0xFF == ord('q')\n",
    "    - cv2.waitKey(1) -> waits for a key press for 1 millisecond If no key is pressed, it returns -1\n",
    "        - 1 millisecond assists in Real-Time Responsiveness, Non-Blocking and Frame Rate Control\n",
    "    - & 0xFF -> The result of cv2.waitKey(1) could be a larger integer, including bits beyond the lowest 8 bits. By performing the & 0xFF operation, you effectively mask out all other bits except for the lowest 8 bits. \n",
    "    - ord() -> This function returns the ASCII code of the character 'q', which is 113.\n",
    "5. cap.release() \n",
    "    - release the resources associated with the video capture device\n",
    "    - If you omit it, it can lead to resource leaks and may cause issues when trying to access the camera again in the future.\n",
    "\n",
    "\n",
    "\n"
   ]
  },
  {
   "cell_type": "code",
   "execution_count": 2,
   "metadata": {},
   "outputs": [],
   "source": [
    "cap = cv2.VideoCapture(0)\n",
    "\n",
    "while(True):\n",
    "    ret, frame = cap.read()\n",
    "    cv2.imshow('frame', frame)\n",
    "\n",
    "    if cv2.waitKey(1) & 0xFF == ord('q'):\n",
    "        break\n",
    "\n",
    "cap.release()\n",
    "cv2.destroyAllWindows()"
   ]
  },
  {
   "cell_type": "markdown",
   "metadata": {},
   "source": []
  },
  {
   "cell_type": "markdown",
   "metadata": {},
   "source": []
  }
 ],
 "metadata": {
  "kernelspec": {
   "display_name": "Python 3",
   "language": "python",
   "name": "python3"
  },
  "language_info": {
   "codemirror_mode": {
    "name": "ipython",
    "version": 3
   },
   "file_extension": ".py",
   "mimetype": "text/x-python",
   "name": "python",
   "nbconvert_exporter": "python",
   "pygments_lexer": "ipython3",
   "version": "3.11.3"
  }
 },
 "nbformat": 4,
 "nbformat_minor": 2
}
