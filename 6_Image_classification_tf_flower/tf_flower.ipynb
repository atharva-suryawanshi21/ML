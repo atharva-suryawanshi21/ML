{
 "cells": [
  {
   "cell_type": "code",
   "execution_count": 1,
   "metadata": {},
   "outputs": [],
   "source": [
    "import tensorflow as tf\n",
    "import numpy as np\n",
    "import matplotlib.pyplot as plt\n",
    "\n",
    "import cv2   #  (OpenCV)\n",
    "# OpenCV (Open Source Computer Vision Library) is a popular open-source computer vision and machine learning software library. \n",
    "# It provides various tools and functions for image and video analysis, manipulation, and computer vision tasks. \n",
    "# It is widely used in fields such as robotics, image processing, and artificial intelligence.\n",
    "import os\n",
    "# The os module in Python provides a way of using operating system-dependent functionality, such as reading or writing files and directories. \n",
    "# It is commonly used for tasks related to file and directory manipulation.\n",
    "import PIL   #  (Python Imaging Library, often referred to as Pillow)\n",
    "# The PIL library is a Python library that provides capabilities for opening, manipulating, and saving various image file formats. \n",
    "# It is widely used for basic image processing tasks, such as resizing, cropping, and applying filters to images.\n"
   ]
  },
  {
   "cell_type": "code",
   "execution_count": 2,
   "metadata": {},
   "outputs": [
    {
     "name": "stdout",
     "output_type": "stream",
     "text": [
      "Downloading data from https://storage.googleapis.com/download.tensorflow.org/example_images/flower_photos.tgz\n",
      "228813984/228813984 [==============================] - 39s 0us/step\n"
     ]
    }
   ],
   "source": [
    "dataset_url = \"https://storage.googleapis.com/download.tensorflow.org/example_images/flower_photos.tgz\"\n",
    "data_dir = tf.keras.utils.get_file('flower_photos', origin = dataset_url, cache_dir = '.', untar = True)\n"
   ]
  }
 ],
 "metadata": {
  "kernelspec": {
   "display_name": "py3-TF2",
   "language": "python",
   "name": "python3"
  },
  "language_info": {
   "codemirror_mode": {
    "name": "ipython",
    "version": 3
   },
   "file_extension": ".py",
   "mimetype": "text/x-python",
   "name": "python",
   "nbconvert_exporter": "python",
   "pygments_lexer": "ipython3",
   "version": "3.10.13"
  },
  "orig_nbformat": 4
 },
 "nbformat": 4,
 "nbformat_minor": 2
}
