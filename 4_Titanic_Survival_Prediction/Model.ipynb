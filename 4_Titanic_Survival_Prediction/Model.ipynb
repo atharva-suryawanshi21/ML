{
 "cells": [
  {
   "cell_type": "markdown",
   "metadata": {},
   "source": [
    "### Assembling the model"
   ]
  },
  {
   "cell_type": "code",
   "execution_count": 2,
   "metadata": {},
   "outputs": [],
   "source": [
    "import numpy as np \n",
    "import tensorflow as tf\n",
    "import pandas as pd\n",
    "\n",
    "npz = np.load('titanic_train_data.npz', allow_pickle=True)\n",
    "train_inputs, train_targets = npz['inputs'], npz['targets']\n",
    "\n",
    "npz = np.load('titanic_validation_data.npz', allow_pickle=True)\n",
    "validation_inputs, validation_targets = npz['inputs'], npz['targets']\n",
    "\n",
    "npz = np.load('titanic_test_data.npz', allow_pickle= True)\n",
    "test_data = npz['inputs']\n",
    "npz = np.load('titanic_test_PassengerId.npz', allow_pickle= True)\n",
    "test_PassengerId = npz['inputs']"
   ]
  },
  {
   "cell_type": "markdown",
   "metadata": {},
   "source": [
    "### Model\n",
    "Outline, Optimizers, Loss, Early Stopping and Training"
   ]
  },
  {
   "cell_type": "code",
   "execution_count": 3,
   "metadata": {},
   "outputs": [
    {
     "name": "stdout",
     "output_type": "stream",
     "text": [
      "Epoch 1/100\n",
      "6/6 - 2s - loss: 0.6050 - accuracy: 0.7075 - val_loss: 0.5268 - val_accuracy: 0.7591 - 2s/epoch - 301ms/step\n",
      "Epoch 2/100\n",
      "6/6 - 0s - loss: 0.4969 - accuracy: 0.7861 - val_loss: 0.4978 - val_accuracy: 0.7737 - 148ms/epoch - 25ms/step\n",
      "Epoch 3/100\n",
      "6/6 - 0s - loss: 0.4765 - accuracy: 0.7879 - val_loss: 0.4609 - val_accuracy: 0.8248 - 60ms/epoch - 10ms/step\n",
      "Epoch 4/100\n",
      "6/6 - 0s - loss: 0.4638 - accuracy: 0.7952 - val_loss: 0.4621 - val_accuracy: 0.8175 - 68ms/epoch - 11ms/step\n",
      "Epoch 5/100\n",
      "6/6 - 0s - loss: 0.4538 - accuracy: 0.8026 - val_loss: 0.4561 - val_accuracy: 0.8321 - 82ms/epoch - 14ms/step\n",
      "Epoch 6/100\n",
      "6/6 - 0s - loss: 0.4507 - accuracy: 0.8044 - val_loss: 0.4570 - val_accuracy: 0.8175 - 79ms/epoch - 13ms/step\n",
      "Epoch 7/100\n",
      "6/6 - 0s - loss: 0.4487 - accuracy: 0.7971 - val_loss: 0.4555 - val_accuracy: 0.8321 - 82ms/epoch - 14ms/step\n",
      "Epoch 8/100\n",
      "6/6 - 0s - loss: 0.4459 - accuracy: 0.8062 - val_loss: 0.4519 - val_accuracy: 0.8248 - 83ms/epoch - 14ms/step\n",
      "Epoch 9/100\n",
      "6/6 - 0s - loss: 0.4447 - accuracy: 0.8062 - val_loss: 0.4463 - val_accuracy: 0.8248 - 82ms/epoch - 14ms/step\n",
      "Epoch 10/100\n",
      "6/6 - 0s - loss: 0.4421 - accuracy: 0.8135 - val_loss: 0.4369 - val_accuracy: 0.8175 - 86ms/epoch - 14ms/step\n",
      "Epoch 11/100\n",
      "6/6 - 0s - loss: 0.4463 - accuracy: 0.8135 - val_loss: 0.4381 - val_accuracy: 0.8175 - 92ms/epoch - 15ms/step\n",
      "Epoch 12/100\n",
      "6/6 - 0s - loss: 0.4430 - accuracy: 0.8080 - val_loss: 0.4533 - val_accuracy: 0.8394 - 124ms/epoch - 21ms/step\n",
      "Epoch 13/100\n",
      "6/6 - 0s - loss: 0.4382 - accuracy: 0.8062 - val_loss: 0.4429 - val_accuracy: 0.8102 - 91ms/epoch - 15ms/step\n",
      "Epoch 14/100\n",
      "6/6 - 0s - loss: 0.4393 - accuracy: 0.8080 - val_loss: 0.4447 - val_accuracy: 0.8029 - 80ms/epoch - 13ms/step\n",
      "Epoch 15/100\n",
      "6/6 - 0s - loss: 0.4351 - accuracy: 0.8099 - val_loss: 0.4534 - val_accuracy: 0.8248 - 83ms/epoch - 14ms/step\n"
     ]
    },
    {
     "data": {
      "text/plain": [
       "<keras.callbacks.History at 0x19141622f80>"
      ]
     },
     "execution_count": 3,
     "metadata": {},
     "output_type": "execute_result"
    }
   ],
   "source": [
    "input_size = train_inputs.shape[1]\n",
    "hidden_layer_size = 100\n",
    "output_size = 1\n",
    "\n",
    "model = tf.keras.Sequential([\n",
    "                                tf.keras.layers.Dense(hidden_layer_size,activation='tanh'),\n",
    "                                tf.keras.layers.Dense(hidden_layer_size,activation='tanh'),\n",
    "                                tf.keras.layers.Dense(hidden_layer_size,activation='tanh'),\n",
    "                                tf.keras.layers.Dense(output_size,activation='sigmoid'),\n",
    "                            ])\n",
    "\n",
    "model.compile(optimizer='adam',loss='binary_crossentropy', metrics = ['accuracy'])\n",
    "\n",
    "batch_size = 100\n",
    "max_epochs = 100\n",
    "\n",
    "early_stopping = tf.keras.callbacks.EarlyStopping(patience= 5)\n",
    "\n",
    "model.fit(\n",
    "            train_inputs,\n",
    "            train_targets,\n",
    "            batch_size= batch_size,\n",
    "            epochs = max_epochs,\n",
    "            callbacks= [early_stopping],\n",
    "            validation_data= (validation_inputs,validation_targets),\n",
    "            verbose = 2\n",
    "         )"
   ]
  },
  {
   "cell_type": "markdown",
   "metadata": {},
   "source": [
    "We get 79.7% accuracy on the validation set"
   ]
  },
  {
   "cell_type": "code",
   "execution_count": 4,
   "metadata": {},
   "outputs": [
    {
     "name": "stdout",
     "output_type": "stream",
     "text": [
      "14/14 [==============================] - 0s 3ms/step\n"
     ]
    },
    {
     "data": {
      "text/html": [
       "<div>\n",
       "<style scoped>\n",
       "    .dataframe tbody tr th:only-of-type {\n",
       "        vertical-align: middle;\n",
       "    }\n",
       "\n",
       "    .dataframe tbody tr th {\n",
       "        vertical-align: top;\n",
       "    }\n",
       "\n",
       "    .dataframe thead th {\n",
       "        text-align: right;\n",
       "    }\n",
       "</style>\n",
       "<table border=\"1\" class=\"dataframe\">\n",
       "  <thead>\n",
       "    <tr style=\"text-align: right;\">\n",
       "      <th></th>\n",
       "      <th>PassengerId</th>\n",
       "      <th>Survived</th>\n",
       "    </tr>\n",
       "  </thead>\n",
       "  <tbody>\n",
       "    <tr>\n",
       "      <th>0</th>\n",
       "      <td>892</td>\n",
       "      <td>0</td>\n",
       "    </tr>\n",
       "    <tr>\n",
       "      <th>1</th>\n",
       "      <td>893</td>\n",
       "      <td>1</td>\n",
       "    </tr>\n",
       "    <tr>\n",
       "      <th>2</th>\n",
       "      <td>894</td>\n",
       "      <td>0</td>\n",
       "    </tr>\n",
       "    <tr>\n",
       "      <th>3</th>\n",
       "      <td>895</td>\n",
       "      <td>0</td>\n",
       "    </tr>\n",
       "    <tr>\n",
       "      <th>4</th>\n",
       "      <td>896</td>\n",
       "      <td>1</td>\n",
       "    </tr>\n",
       "    <tr>\n",
       "      <th>...</th>\n",
       "      <td>...</td>\n",
       "      <td>...</td>\n",
       "    </tr>\n",
       "    <tr>\n",
       "      <th>413</th>\n",
       "      <td>1305</td>\n",
       "      <td>0</td>\n",
       "    </tr>\n",
       "    <tr>\n",
       "      <th>414</th>\n",
       "      <td>1306</td>\n",
       "      <td>1</td>\n",
       "    </tr>\n",
       "    <tr>\n",
       "      <th>415</th>\n",
       "      <td>1307</td>\n",
       "      <td>0</td>\n",
       "    </tr>\n",
       "    <tr>\n",
       "      <th>416</th>\n",
       "      <td>1308</td>\n",
       "      <td>0</td>\n",
       "    </tr>\n",
       "    <tr>\n",
       "      <th>417</th>\n",
       "      <td>1309</td>\n",
       "      <td>1</td>\n",
       "    </tr>\n",
       "  </tbody>\n",
       "</table>\n",
       "<p>418 rows × 2 columns</p>\n",
       "</div>"
      ],
      "text/plain": [
       "     PassengerId  Survived\n",
       "0            892         0\n",
       "1            893         1\n",
       "2            894         0\n",
       "3            895         0\n",
       "4            896         1\n",
       "..           ...       ...\n",
       "413         1305         0\n",
       "414         1306         1\n",
       "415         1307         0\n",
       "416         1308         0\n",
       "417         1309         1\n",
       "\n",
       "[418 rows x 2 columns]"
      ]
     },
     "execution_count": 4,
     "metadata": {},
     "output_type": "execute_result"
    }
   ],
   "source": [
    "survived = model.predict(test_data)\n",
    "survived_binary = (survived >= 0.5).astype(int)\n",
    "\n",
    "Answer = pd.DataFrame()\n",
    "Answer['PassengerId']= test_PassengerId\n",
    "Answer['Survived']= survived_binary\n",
    "\n",
    "Answer.to_csv('titanic_submission.csv', index=False)\n",
    "Answer"
   ]
  },
  {
   "cell_type": "markdown",
   "metadata": {},
   "source": [
    "From the submission of the result('Answer') in the kaggle, we got nearly 78 % accuracy, which is good. There's so much uncertainty, due to that \"noise\", but also due to other factors that are not given in the table, like people's health conditions, personality traits, personal relations and so on, that it's completely impossible to predict survival from the given data alone."
   ]
  },
  {
   "cell_type": "markdown",
   "metadata": {},
   "source": []
  }
 ],
 "metadata": {
  "kernelspec": {
   "display_name": "py3-TF2",
   "language": "python",
   "name": "python3"
  },
  "language_info": {
   "codemirror_mode": {
    "name": "ipython",
    "version": 3
   },
   "file_extension": ".py",
   "mimetype": "text/x-python",
   "name": "python",
   "nbconvert_exporter": "python",
   "pygments_lexer": "ipython3",
   "version": "3.10.12"
  },
  "orig_nbformat": 4
 },
 "nbformat": 4,
 "nbformat_minor": 2
}
